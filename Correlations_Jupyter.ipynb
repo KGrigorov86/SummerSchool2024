{
 "cells": [
  {
   "cell_type": "code",
   "execution_count": null,
   "id": "1f210d79-0a25-4c0a-9cb2-030bda1e8386",
   "metadata": {},
   "outputs": [],
   "source": [
    "import pandas as pd\n",
    "import os\n",
    "\n",
    "# Specify the directory containing the files\n",
    "directory = r'C:\\Users\\KonstantinGrigorov\\OneDrive - ROITI Ltd\\Документи\\Lichni\\Summer Academy 2024 Cases\\Crypto\\data'\n",
    "\n",
    "# Initialize an empty dictionary to hold the DataFrames\n",
    "dataframes = {}\n",
    "\n",
    "# Loop through the files in the directory\n",
    "for filename in os.listdir(directory):\n",
    "    if filename.endswith('.csv'):  # Check if the file is a CSV file\n",
    "        file_path = os.path.join(directory, filename)\n",
    "        prefix = filename.split('_USDT_1m')[0]  # Extract the prefix from the filename\n",
    "        df = pd.read_csv(file_path)  # Read the CSV file into a DataFrame\n",
    "        df['Crypto'] = prefix  # Add the prefix as a new column named 'Crypto'\n",
    "        df.set_index('timestamp', inplace=True)  # Set timestamp as index\n",
    "        dataframes[prefix] = df[['close']]  # Keep only the close price column"
   ]
  },
  {
   "cell_type": "code",
   "execution_count": null,
   "id": "1c630874-d751-4017-ba00-346423171cd7",
   "metadata": {},
   "outputs": [],
   "source": []
  }
 ],
 "metadata": {
  "kernelspec": {
   "display_name": "Python 3 (ipykernel)",
   "language": "python",
   "name": "python3"
  },
  "language_info": {
   "codemirror_mode": {
    "name": "ipython",
    "version": 3
   },
   "file_extension": ".py",
   "mimetype": "text/x-python",
   "name": "python",
   "nbconvert_exporter": "python",
   "pygments_lexer": "ipython3",
   "version": "3.11.7"
  }
 },
 "nbformat": 4,
 "nbformat_minor": 5
}
